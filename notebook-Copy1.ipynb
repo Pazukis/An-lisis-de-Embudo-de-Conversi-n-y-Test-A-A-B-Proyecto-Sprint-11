{
 "cells": [
  {
   "cell_type": "markdown",
   "metadata": {},
   "source": [
    "# Análisis del Comportamiento del Usuario y Evaluación Experimental A/A/B en una Aplicación de Productos Alimenticios\n",
    "\n",
    "## Introducción\n",
    "\n",
    "En el contexto de una empresa emergente dedicada a la venta de productos alimenticios, comprender el comportamiento del usuario dentro de su aplicación móvil es fundamental para optimizar la experiencia del cliente y maximizar la conversión. Este proyecto tiene como objetivo principal analizar el embudo de ventas para identificar los puntos críticos donde los usuarios abandonan el proceso de compra, así como evaluar el impacto de un cambio de diseño a través de un experimento A/A/B.\n",
    "\n",
    "El análisis se basa en un conjunto de datos de eventos generados por los usuarios, que incluye información sobre acciones realizadas, marcas de tiempo y asignación a grupos experimentales. A través de este estudio, se busca responder preguntas clave como: ¿cuántos usuarios completan el proceso de compra?, ¿en qué etapas se produce mayor abandono?, y ¿cómo afecta el nuevo diseño de fuentes al comportamiento del usuario?\n",
    "\n",
    "Además, se aplicarán técnicas estadísticas rigurosas para validar la consistencia entre los grupos de control y determinar si el nuevo diseño tiene un efecto significativo en la interacción del usuario. Este enfoque permitirá tomar decisiones informadas sobre cambios en la interfaz de la aplicación, basadas en evidencia cuantitativa y no en suposiciones."
   ]
  },
  {
   "cell_type": "markdown",
   "metadata": {},
   "source": [
    "## Objetivos del Proyecto:\n",
    "\n",
    "- Analizar el comportamiento de los usuarios dentro de la aplicación mediante el estudio del embudo de conversión.\n",
    "- Identificar las etapas del embudo donde se produce mayor abandono.\n",
    "- Evaluar el impacto de un cambio de diseño (tipografía) mediante un experimento A/A/B.\n",
    "- Validar la consistencia entre los grupos de control para asegurar la fiabilidad del experimento.\n",
    "- Determinar si el nuevo diseño tiene un efecto estadísticamente significativo en la interacción del usuario.\n",
    "- Aplicar técnicas estadísticas rigurosas para extraer conclusiones basadas en evidencia.\n",
    "\n",
    "## Metodología:\n",
    "\n",
    "1. **Carga y preparación de datos**: Se importará el conjunto de datos, se renombrarán columnas para mayor claridad, se verificarán tipos de datos y se crearán columnas adicionales para facilitar el análisis temporal.\n",
    "\n",
    "2. **Análisis exploratorio**: Se evaluará la cantidad de eventos y usuarios, el promedio de eventos por usuario, y la distribución temporal de los datos para determinar el periodo útil para el análisis.\n",
    "\n",
    "3. **Estudio del embudo de conversión**: Se identificarán los eventos clave, su frecuencia y la proporción de usuarios que completan cada etapa del embudo, con el fin de detectar puntos de abandono.\n",
    "\n",
    "4. **Evaluación del experimento A/A/B**:\n",
    "   - Se compararán los grupos de control (ExpId 246 y 247) para validar la consistencia del experimento.\n",
    "   - Se analizará el grupo de prueba (ExpId 248) frente a los grupos de control para detectar diferencias significativas en el comportamiento del usuario.\n",
    "   - Se aplicarán pruebas estadísticas para evaluar la significancia de los resultados, ajustando el nivel de significancia si es necesario debido a múltiples comparaciones.\n",
    "\n",
    "5. **Conclusiones**: Se sintetizarán los hallazgos del análisis del embudo y del experimento para ofrecer recomendaciones basadas en datos sobre el diseño de la aplicación."
   ]
  },
  {
   "cell_type": "code",
   "execution_count": 1,
   "metadata": {},
   "outputs": [],
   "source": [
    "# Bibliotecas para análisis y visualización\n",
    "import pandas as pd\n",
    "import matplotlib.pyplot as plt\n",
    "from statsmodels.stats.proportion import proportions_ztest"
   ]
  },
  {
   "cell_type": "code",
   "execution_count": 2,
   "metadata": {},
   "outputs": [],
   "source": [
    "# Cargar el dataset\n",
    "df = pd.read_csv('/datasets/logs_exp_us.csv', sep='\\t')"
   ]
  },
  {
   "cell_type": "code",
   "execution_count": 3,
   "metadata": {},
   "outputs": [
    {
     "name": "stdout",
     "output_type": "stream",
     "text": [
      "                 EventName         DeviceIDHash  EventTimestamp  ExpId\n",
      "0         MainScreenAppear  4575588528974610257      1564029816    246\n",
      "1         MainScreenAppear  7416695313311560658      1564053102    246\n",
      "2  PaymentScreenSuccessful  3518123091307005509      1564054127    248\n",
      "3         CartScreenAppear  3518123091307005509      1564054127    248\n",
      "4  PaymentScreenSuccessful  6217807653094995999      1564055322    248\n",
      "<class 'pandas.core.frame.DataFrame'>\n",
      "RangeIndex: 244126 entries, 0 to 244125\n",
      "Data columns (total 4 columns):\n",
      " #   Column          Non-Null Count   Dtype \n",
      "---  ------          --------------   ----- \n",
      " 0   EventName       244126 non-null  object\n",
      " 1   DeviceIDHash    244126 non-null  int64 \n",
      " 2   EventTimestamp  244126 non-null  int64 \n",
      " 3   ExpId           244126 non-null  int64 \n",
      "dtypes: int64(3), object(1)\n",
      "memory usage: 7.5+ MB\n",
      "None\n",
      "               EventName  DeviceIDHash  EventTimestamp          ExpId\n",
      "count             244126  2.441260e+05    2.441260e+05  244126.000000\n",
      "unique                 5           NaN             NaN            NaN\n",
      "top     MainScreenAppear           NaN             NaN            NaN\n",
      "freq              119205           NaN             NaN            NaN\n",
      "mean                 NaN  4.627568e+18    1.564914e+09     247.022296\n",
      "std                  NaN  2.642425e+18    1.771343e+05       0.824434\n",
      "min                  NaN  6.888747e+15    1.564030e+09     246.000000\n",
      "25%                  NaN  2.372212e+18    1.564757e+09     246.000000\n",
      "50%                  NaN  4.623192e+18    1.564919e+09     247.000000\n",
      "75%                  NaN  6.932517e+18    1.565075e+09     248.000000\n",
      "max                  NaN  9.222603e+18    1.565213e+09     248.000000\n"
     ]
    }
   ],
   "source": [
    "\n",
    "# Vista general de las primeras filas\n",
    "print(df.head())\n",
    "\n",
    "# Información general del DataFrame\n",
    "print(df.info())\n",
    "\n",
    "# Estadísticas básicas\n",
    "print(df.describe(include='all'))\n"
   ]
  },
  {
   "cell_type": "code",
   "execution_count": 4,
   "metadata": {},
   "outputs": [
    {
     "name": "stdout",
     "output_type": "stream",
     "text": [
      "Columnas detectadas: Index(['EventName\\tDeviceIDHash\\tEventTimestamp\\tExpId'], dtype='object')\n",
      "Número de columnas: 1\n"
     ]
    }
   ],
   "source": [
    "# Cargar el archivo nuevamente\n",
    "df = pd.read_csv('/datasets/logs_exp_us.csv')\n",
    "\n",
    "# Ver cuántas columnas tiene realmente\n",
    "print(\"Columnas detectadas:\", df.columns)\n",
    "print(\"Número de columnas:\", len(df.columns))"
   ]
  },
  {
   "cell_type": "code",
   "execution_count": 5,
   "metadata": {},
   "outputs": [
    {
     "name": "stdout",
     "output_type": "stream",
     "text": [
      "0: 'EventName\tDeviceIDHash\tEventTimestamp\tExpId'\n"
     ]
    }
   ],
   "source": [
    "# Ver nombres de columnas con sus índices\n",
    "for i, col in enumerate(df.columns):\n",
    "    print(f\"{i}: '{col}'\")"
   ]
  },
  {
   "cell_type": "code",
   "execution_count": 6,
   "metadata": {},
   "outputs": [
    {
     "data": {
      "text/html": [
       "<div>\n",
       "<style scoped>\n",
       "    .dataframe tbody tr th:only-of-type {\n",
       "        vertical-align: middle;\n",
       "    }\n",
       "\n",
       "    .dataframe tbody tr th {\n",
       "        vertical-align: top;\n",
       "    }\n",
       "\n",
       "    .dataframe thead th {\n",
       "        text-align: right;\n",
       "    }\n",
       "</style>\n",
       "<table border=\"1\" class=\"dataframe\">\n",
       "  <thead>\n",
       "    <tr style=\"text-align: right;\">\n",
       "      <th></th>\n",
       "      <th>event</th>\n",
       "      <th>user_id</th>\n",
       "      <th>timestamp</th>\n",
       "      <th>exp_id</th>\n",
       "      <th>datetime</th>\n",
       "      <th>date</th>\n",
       "    </tr>\n",
       "  </thead>\n",
       "  <tbody>\n",
       "    <tr>\n",
       "      <th>0</th>\n",
       "      <td>MainScreenAppear</td>\n",
       "      <td>4575588528974610257</td>\n",
       "      <td>1564029816</td>\n",
       "      <td>246</td>\n",
       "      <td>2019-07-25 04:43:36</td>\n",
       "      <td>2019-07-25</td>\n",
       "    </tr>\n",
       "    <tr>\n",
       "      <th>1</th>\n",
       "      <td>MainScreenAppear</td>\n",
       "      <td>7416695313311560658</td>\n",
       "      <td>1564053102</td>\n",
       "      <td>246</td>\n",
       "      <td>2019-07-25 11:11:42</td>\n",
       "      <td>2019-07-25</td>\n",
       "    </tr>\n",
       "    <tr>\n",
       "      <th>2</th>\n",
       "      <td>PaymentScreenSuccessful</td>\n",
       "      <td>3518123091307005509</td>\n",
       "      <td>1564054127</td>\n",
       "      <td>248</td>\n",
       "      <td>2019-07-25 11:28:47</td>\n",
       "      <td>2019-07-25</td>\n",
       "    </tr>\n",
       "    <tr>\n",
       "      <th>3</th>\n",
       "      <td>CartScreenAppear</td>\n",
       "      <td>3518123091307005509</td>\n",
       "      <td>1564054127</td>\n",
       "      <td>248</td>\n",
       "      <td>2019-07-25 11:28:47</td>\n",
       "      <td>2019-07-25</td>\n",
       "    </tr>\n",
       "    <tr>\n",
       "      <th>4</th>\n",
       "      <td>PaymentScreenSuccessful</td>\n",
       "      <td>6217807653094995999</td>\n",
       "      <td>1564055322</td>\n",
       "      <td>248</td>\n",
       "      <td>2019-07-25 11:48:42</td>\n",
       "      <td>2019-07-25</td>\n",
       "    </tr>\n",
       "  </tbody>\n",
       "</table>\n",
       "</div>"
      ],
      "text/plain": [
       "                     event              user_id   timestamp exp_id  \\\n",
       "0         MainScreenAppear  4575588528974610257  1564029816    246   \n",
       "1         MainScreenAppear  7416695313311560658  1564053102    246   \n",
       "2  PaymentScreenSuccessful  3518123091307005509  1564054127    248   \n",
       "3         CartScreenAppear  3518123091307005509  1564054127    248   \n",
       "4  PaymentScreenSuccessful  6217807653094995999  1564055322    248   \n",
       "\n",
       "             datetime        date  \n",
       "0 2019-07-25 04:43:36  2019-07-25  \n",
       "1 2019-07-25 11:11:42  2019-07-25  \n",
       "2 2019-07-25 11:28:47  2019-07-25  \n",
       "3 2019-07-25 11:28:47  2019-07-25  \n",
       "4 2019-07-25 11:48:42  2019-07-25  "
      ]
     },
     "execution_count": 6,
     "metadata": {},
     "output_type": "execute_result"
    }
   ],
   "source": [
    "# Separar la única columna en varias usando tabulaciones\n",
    "df = df[df.columns[0]].str.split('\\t', expand=True)\n",
    "\n",
    "# Renombrar columnas correctamente\n",
    "df.columns = ['event', 'user_id', 'timestamp', 'exp_id']\n",
    "\n",
    "# Convertir timestamp a datetime\n",
    "df['datetime'] = pd.to_datetime(df['timestamp'], unit='s')\n",
    "\n",
    "# Crear columna de fecha\n",
    "df['date'] = df['datetime'].dt.date\n",
    "\n",
    "# Vista previa\n",
    "df.head()"
   ]
  },
  {
   "cell_type": "code",
   "execution_count": 7,
   "metadata": {},
   "outputs": [],
   "source": [
    "# Total de eventos\n",
    "total_eventos = len(df)\n",
    "\n",
    "# Total de usuarios únicos\n",
    "usuarios_unicos = df['user_id'].nunique()\n",
    "\n",
    "# Promedio de eventos por usuario\n",
    "eventos_por_usuario = total_eventos / usuarios_unicos\n",
    "\n",
    "# Fecha mínima y máxima\n",
    "fecha_min = df['datetime'].min()\n",
    "fecha_max = df['datetime'].max()"
   ]
  },
  {
   "cell_type": "code",
   "execution_count": 8,
   "metadata": {},
   "outputs": [
    {
     "data": {
      "image/png": "[encoded data removed]",
      "text/plain": [
       "<Figure size 1200x500 with 1 Axes>"
      ]
     },
     "metadata": {},
     "output_type": "display_data"
    }
   ],
   "source": [
    "# Histograma de eventos por fecha\n",
    "plt.figure(figsize=(12, 5))\n",
    "df['date'].value_counts().sort_index().plot(kind='bar')\n",
    "plt.title('Distribución de eventos por fecha')\n",
    "plt.xlabel('Fecha')\n",
    "plt.ylabel('Número de eventos')\n",
    "plt.xticks(rotation=45)\n",
    "plt.tight_layout()\n",
    "plt.show()"
   ]
  },
  {
   "cell_type": "markdown",
   "metadata": {},
   "source": [
    "Conclusión en base a los resultados:\n",
    "\n",
    "Podemos decir que los datos comienzan a estar completos a partir del 1 de agosto de 2019. Esto es importante porque:\n",
    "\n",
    "* Evita sesgos por registros incompletos.\n",
    "\n",
    "* Nos permite trabajar con una base de usuarios más representativa."
   ]
  },
  {
   "cell_type": "code",
   "execution_count": 9,
   "metadata": {},
   "outputs": [
    {
     "name": "stdout",
     "output_type": "stream",
     "text": [
      "Total de eventos: 244126\n",
      "Total de usuarios únicos: 7551\n",
      "Promedio de eventos por usuario: 32.33\n",
      "Rango de fechas: 2019-07-25 04:43:36 a 2019-08-07 21:15:17\n",
      "\n",
      "Usuarios únicos por grupo experimental:\n",
      "exp_id\n",
      "246    2489\n",
      "247    2520\n",
      "248    2542\n",
      "Name: user_id, dtype: int64\n"
     ]
    }
   ],
   "source": [
    "# Usuarios por grupo experimental\n",
    "usuarios_por_grupo = df.groupby('exp_id')['user_id'].nunique()\n",
    "\n",
    "# Mostrar resultados\n",
    "print(f\"Total de eventos: {total_eventos}\")\n",
    "print(f\"Total de usuarios únicos: {usuarios_unicos}\")\n",
    "print(f\"Promedio de eventos por usuario: {eventos_por_usuario:.2f}\")\n",
    "print(f\"Rango de fechas: {fecha_min} a {fecha_max}\")\n",
    "print(\"\\nUsuarios únicos por grupo experimental:\")\n",
    "print(usuarios_por_grupo)"
   ]
  },
  {
   "cell_type": "markdown",
   "metadata": {},
   "source": [
    "Conclusión de esta etapa:\n",
    "\n",
    "El volumen de datos es suficiente y balanceado entre los tres grupos experimentales.\n",
    "\n",
    "Los datos comienzan a estar completos a partir del 1 de agosto de 2019, por lo que filtraremos los eventos anteriores a esa fecha para evitar sesgos."
   ]
  },
  {
   "cell_type": "code",
   "execution_count": 10,
   "metadata": {},
   "outputs": [
    {
     "name": "stdout",
     "output_type": "stream",
     "text": [
      "Eventos después del filtrado: 241298\n",
      "Usuarios únicos después del filtrado: 7534\n"
     ]
    }
   ],
   "source": [
    "# Filtrar los datos desde el 1 de agosto de 2019 en adelante\n",
    "df_filtrado = df[df['datetime'] >= '2019-08-01']\n",
    "\n",
    "# Verificar cuántos eventos y usuarios quedan\n",
    "eventos_filtrados = len(df_filtrado)\n",
    "usuarios_filtrados = df_filtrado['user_id'].nunique()\n",
    "\n",
    "print(f\"Eventos después del filtrado: {eventos_filtrados}\")\n",
    "print(f\"Usuarios únicos después del filtrado: {usuarios_filtrados}\")"
   ]
  },
  {
   "cell_type": "markdown",
   "metadata": {},
   "source": [
    "Esto significa que solo se perdieron 2,828 eventos y 17 usuarios, lo cual es insignificante comparado con el total."
   ]
  },
  {
   "cell_type": "code",
   "execution_count": 11,
   "metadata": {},
   "outputs": [
    {
     "name": "stdout",
     "output_type": "stream",
     "text": [
      "Frecuencia de eventos:\n",
      " MainScreenAppear           117431\n",
      "OffersScreenAppear          46350\n",
      "CartScreenAppear            42365\n",
      "PaymentScreenSuccessful     34113\n",
      "Tutorial                     1039\n",
      "Name: event, dtype: int64\n",
      "\n",
      "Usuarios únicos por evento:\n",
      " event\n",
      "MainScreenAppear           7419\n",
      "OffersScreenAppear         4593\n",
      "CartScreenAppear           3734\n",
      "PaymentScreenSuccessful    3539\n",
      "Tutorial                    840\n",
      "Name: user_id, dtype: int64\n",
      "\n",
      "Proporción de usuarios por evento:\n",
      " event\n",
      "MainScreenAppear           0.984736\n",
      "OffersScreenAppear         0.609636\n",
      "CartScreenAppear           0.495620\n",
      "PaymentScreenSuccessful    0.469737\n",
      "Tutorial                   0.111495\n",
      "Name: user_id, dtype: float64\n"
     ]
    }
   ],
   "source": [
    "# frecuencia de eventos\n",
    "frecuencia_eventos = df_filtrado['event'].value_counts()\n",
    "print(\"Frecuencia de eventos:\\n\", frecuencia_eventos)\n",
    "\n",
    "# número de usuarios únicos por evento\n",
    "usuarios_por_evento = df_filtrado.groupby('event')['user_id'].nunique().sort_values(ascending=False)\n",
    "print(\"\\nUsuarios únicos por evento:\\n\", usuarios_por_evento)\n",
    "\n",
    "# proporción de usuarios que realizaron cada evento\n",
    "proporcion_usuarios = usuarios_por_evento / df_filtrado['user_id'].nunique()\n",
    "print(\"\\nProporción de usuarios por evento:\\n\", proporcion_usuarios)"
   ]
  },
  {
   "cell_type": "code",
   "execution_count": 12,
   "metadata": {},
   "outputs": [
    {
     "ename": "NameError",
     "evalue": "name 'embudo_orden' is not defined",
     "output_type": "error",
     "traceback": [
      "\u001b[0;31m---------------------------------------------------------------------------\u001b[0m",
      "\u001b[0;31mNameError\u001b[0m                                 Traceback (most recent call last)",
      "Cell \u001b[0;32mIn[12], line 9\u001b[0m\n\u001b[1;32m      6\u001b[0m \u001b[38;5;66;03m# Crear gráfico de embudo\u001b[39;00m\n\u001b[1;32m      7\u001b[0m \u001b[38;5;66;03m# Visualización del embudo\u001b[39;00m\n\u001b[1;32m      8\u001b[0m plt\u001b[38;5;241m.\u001b[39mfigure(figsize\u001b[38;5;241m=\u001b[39m(\u001b[38;5;241m10\u001b[39m, \u001b[38;5;241m6\u001b[39m))\n\u001b[0;32m----> 9\u001b[0m plt\u001b[38;5;241m.\u001b[39mbar(\u001b[43membudo_orden\u001b[49m, embudo_usuarios, color\u001b[38;5;241m=\u001b[39m\u001b[38;5;124m'\u001b[39m\u001b[38;5;124mlightgreen\u001b[39m\u001b[38;5;124m'\u001b[39m)\n\u001b[1;32m     10\u001b[0m plt\u001b[38;5;241m.\u001b[39mtitle(\u001b[38;5;124m'\u001b[39m\u001b[38;5;124mEmbudo de Conversión (filtrado desde 1 de agosto de 2019)\u001b[39m\u001b[38;5;124m'\u001b[39m)\n\u001b[1;32m     11\u001b[0m plt\u001b[38;5;241m.\u001b[39mxlabel(\u001b[38;5;124m'\u001b[39m\u001b[38;5;124mEvento\u001b[39m\u001b[38;5;124m'\u001b[39m)\n",
      "\u001b[0;31mNameError\u001b[0m: name 'embudo_orden' is not defined"
     ]
    },
    {
     "data": {
      "text/plain": [
       "<Figure size 1000x600 with 0 Axes>"
      ]
     },
     "metadata": {},
     "output_type": "display_data"
    }
   ],
   "source": [
    "# Datos del embudo\n",
    "etapas = ['MainScreenAppear', 'OffersScreenAppear', 'CartScreenAppear', 'PaymentScreenSuccessful']\n",
    "usuarios = df_filtrado.groupby('event')['user_id'].nunique()\n",
    "usuarios_embudo = [usuarios.get(etapa, 0) for etapa in etapas]\n",
    "\n",
    "# Crear gráfico de embudo\n",
    "# Visualización del embudo\n",
    "plt.figure(figsize=(10, 6))\n",
    "plt.bar(embudo_orden, embudo_usuarios, color='lightgreen')\n",
    "plt.title('Embudo de Conversión (filtrado desde 1 de agosto de 2019)')\n",
    "plt.xlabel('Evento')\n",
    "plt.ylabel('Usuarios únicos')\n",
    "plt.xticks(rotation=45)\n",
    "for i, v in enumerate(embudo_usuarios):\n",
    "    plt.text(i, v + 50, str(v), ha='center')\n",
    "plt.tight_layout()\n",
    "plt.show()"
   ]
  },
  {
   "cell_type": "markdown",
   "metadata": {},
   "source": [
    "## Conclusión del Embudo de Conversión\n",
    "\n",
    "El análisis del embudo de conversión revela una disminución progresiva en la participación de los usuarios a medida que avanzan por las etapas clave de la aplicación:\n",
    "\n",
    "- Casi todos los usuarios (98.5%) llegan a la pantalla principal (`MainScreenAppear`).\n",
    "- Solo el 61% explora las ofertas (`OffersScreenAppear`).\n",
    "- Un 49.6% accede al carrito (`CartScreenAppear`).\n",
    "- Finalmente, el 47% completa una compra exitosa (`PaymentScreenSuccessful`).\n",
    "\n",
    "La mayor pérdida de usuarios ocurre entre la pantalla principal y la sección de ofertas, lo que sugiere que muchos usuarios no encuentran motivos suficientes para explorar más allá del inicio. Sin embargo, una vez que los usuarios llegan al carrito, la tasa de conversión hacia el pago es relativamente alta.\n",
    "\n",
    "Este embudo indica que los esfuerzos de optimización deberían centrarse en mejorar la transición entre la pantalla principal y la sección de ofertas, posiblemente mediante mejores incentivos, recomendaciones personalizadas o una navegación más clara."
   ]
  },
  {
   "cell_type": "code",
   "execution_count": 13,
   "metadata": {},
   "outputs": [
    {
     "name": "stdout",
     "output_type": "stream",
     "text": [
      "Usuarios únicos por grupo experimental:\n",
      " exp_id\n",
      "246    2484\n",
      "247    2513\n",
      "248    2537\n",
      "Name: user_id, dtype: int64\n"
     ]
    }
   ],
   "source": [
    "usuarios_por_grupo = df_filtrado.groupby('exp_id')['user_id'].nunique()\n",
    "print(\"Usuarios únicos por grupo experimental:\\n\", usuarios_por_grupo)"
   ]
  },
  {
   "cell_type": "code",
   "execution_count": 14,
   "metadata": {},
   "outputs": [
    {
     "ename": "NameError",
     "evalue": "name 'df_experimento' is not defined",
     "output_type": "error",
     "traceback": [
      "\u001b[0;31m---------------------------------------------------------------------------\u001b[0m",
      "\u001b[0;31mNameError\u001b[0m                                 Traceback (most recent call last)",
      "Cell \u001b[0;32mIn[14], line 2\u001b[0m\n\u001b[1;32m      1\u001b[0m \u001b[38;5;66;03m# Calcular la frecuencia de eventos\u001b[39;00m\n\u001b[0;32m----> 2\u001b[0m eventos_frecuencia \u001b[38;5;241m=\u001b[39m \u001b[43mdf_experimento\u001b[49m[\u001b[38;5;124m'\u001b[39m\u001b[38;5;124mevent\u001b[39m\u001b[38;5;124m'\u001b[39m]\u001b[38;5;241m.\u001b[39mvalue_counts()\n\u001b[1;32m      4\u001b[0m \u001b[38;5;66;03m# Identificar el evento más popular\u001b[39;00m\n\u001b[1;32m      5\u001b[0m evento_popular \u001b[38;5;241m=\u001b[39m eventos_frecuencia\u001b[38;5;241m.\u001b[39midxmax()\n",
      "\u001b[0;31mNameError\u001b[0m: name 'df_experimento' is not defined"
     ]
    }
   ],
   "source": [
    "# Calcular la frecuencia de eventos\n",
    "eventos_frecuencia = df_experimento['event'].value_counts()\n",
    "\n",
    "# Identificar el evento más popular\n",
    "evento_popular = eventos_frecuencia.idxmax()\n",
    "print(f'Evento más popular: {evento_popular}')\n"
   ]
  },
  {
   "cell_type": "code",
   "execution_count": 15,
   "metadata": {},
   "outputs": [],
   "source": [
    "def comparar_evento(evento, grupo_a, grupo_b, alpha=0.05):\n",
    "    usuarios_a = df_filtrado[(df_filtrado['exp_id'] == grupo_a) & (df_filtrado['event'] == evento)]['user_id'].nunique()\n",
    "    total_a = df_filtrado[df_filtrado['exp_id'] == grupo_a]['user_id'].nunique()\n",
    "\n",
    "    usuarios_b = df_filtrado[(df_filtrado['exp_id'] == grupo_b) & (df_filtrado['event'] == evento)]['user_id'].nunique()\n",
    "    total_b = df_filtrado[df_filtrado['exp_id'] == grupo_b]['user_id'].nunique()\n",
    "\n",
    "    if total_a == 0 or total_b == 0 or (usuarios_a == 0 and usuarios_b == 0):\n",
    "        return None, 'Datos insuficientes'\n",
    "\n",
    "    count = [usuarios_a, usuarios_b]\n",
    "    nobs = [total_a, total_b]\n",
    "    stat, pval = proportions_ztest(count, nobs)\n",
    "    return round(pval, 4), 'Suficiente'"
   ]
  },
  {
   "cell_type": "code",
   "execution_count": 16,
   "metadata": {},
   "outputs": [
    {
     "name": "stdout",
     "output_type": "stream",
     "text": [
      "P-valor entre grupos de control (246 vs 247) para 'MainScreenAppear': (None, 'Datos insuficientes')\n"
     ]
    }
   ],
   "source": [
    "evento_top = df_filtrado['event'].value_counts().idxmax()\n",
    "pval_control = comparar_evento(evento_top, 246, 247)\n",
    "print(f\"P-valor entre grupos de control (246 vs 247) para '{evento_top}': {pval_control}\")"
   ]
  },
  {
   "cell_type": "code",
   "execution_count": 17,
   "metadata": {},
   "outputs": [
    {
     "name": "stdout",
     "output_type": "stream",
     "text": [
      "Comparación entre grupos de control (246 vs 247):\n"
     ]
    },
    {
     "ename": "NameError",
     "evalue": "name 'eventos' is not defined",
     "output_type": "error",
     "traceback": [
      "\u001b[0;31m---------------------------------------------------------------------------\u001b[0m",
      "\u001b[0;31mNameError\u001b[0m                                 Traceback (most recent call last)",
      "Cell \u001b[0;32mIn[17], line 2\u001b[0m\n\u001b[1;32m      1\u001b[0m \u001b[38;5;28mprint\u001b[39m(\u001b[38;5;124m\"\u001b[39m\u001b[38;5;124mComparación entre grupos de control (246 vs 247):\u001b[39m\u001b[38;5;124m\"\u001b[39m)\n\u001b[0;32m----> 2\u001b[0m \u001b[38;5;28;01mfor\u001b[39;00m evento \u001b[38;5;129;01min\u001b[39;00m \u001b[43meventos\u001b[49m:\n\u001b[1;32m      3\u001b[0m     pval \u001b[38;5;241m=\u001b[39m comparar_evento(evento, \u001b[38;5;241m246\u001b[39m, \u001b[38;5;241m247\u001b[39m)\n\u001b[1;32m      4\u001b[0m     \u001b[38;5;28mprint\u001b[39m(\u001b[38;5;124mf\u001b[39m\u001b[38;5;124m\"\u001b[39m\u001b[38;5;132;01m{\u001b[39;00mevento\u001b[38;5;132;01m}\u001b[39;00m\u001b[38;5;124m: p-valor = \u001b[39m\u001b[38;5;132;01m{\u001b[39;00mpval\u001b[38;5;132;01m}\u001b[39;00m\u001b[38;5;124m\"\u001b[39m)\n",
      "\u001b[0;31mNameError\u001b[0m: name 'eventos' is not defined"
     ]
    }
   ],
   "source": [
    "print(\"Comparación entre grupos de control (246 vs 247):\")\n",
    "for evento in eventos:\n",
    "    pval = comparar_evento(evento, 246, 247)\n",
    "    print(f\"{evento}: p-valor = {pval}\")"
   ]
  },
  {
   "cell_type": "code",
   "execution_count": 18,
   "metadata": {},
   "outputs": [
    {
     "ename": "NameError",
     "evalue": "name 'eventos' is not defined",
     "output_type": "error",
     "traceback": [
      "\u001b[0;31m---------------------------------------------------------------------------\u001b[0m",
      "\u001b[0;31mNameError\u001b[0m                                 Traceback (most recent call last)",
      "Cell \u001b[0;32mIn[18], line 2\u001b[0m\n\u001b[1;32m      1\u001b[0m \u001b[38;5;66;03m# Verificar cuántos usuarios por grupo realizaron cada evento\u001b[39;00m\n\u001b[0;32m----> 2\u001b[0m \u001b[38;5;28;01mfor\u001b[39;00m evento \u001b[38;5;129;01min\u001b[39;00m \u001b[43meventos\u001b[49m:\n\u001b[1;32m      3\u001b[0m     \u001b[38;5;28mprint\u001b[39m(\u001b[38;5;124mf\u001b[39m\u001b[38;5;124m\"\u001b[39m\u001b[38;5;130;01m\\n\u001b[39;00m\u001b[38;5;124mEvento: \u001b[39m\u001b[38;5;132;01m{\u001b[39;00mevento\u001b[38;5;132;01m}\u001b[39;00m\u001b[38;5;124m\"\u001b[39m)\n\u001b[1;32m      4\u001b[0m     \u001b[38;5;28;01mfor\u001b[39;00m grupo \u001b[38;5;129;01min\u001b[39;00m [\u001b[38;5;241m246\u001b[39m, \u001b[38;5;241m247\u001b[39m]:\n",
      "\u001b[0;31mNameError\u001b[0m: name 'eventos' is not defined"
     ]
    }
   ],
   "source": [
    "# Verificar cuántos usuarios por grupo realizaron cada evento\n",
    "for evento in eventos:\n",
    "    print(f\"\\nEvento: {evento}\")\n",
    "    for grupo in [246, 247]:\n",
    "        usuarios = df_filtrado[(df_filtrado['exp_id'] == grupo) & (df_filtrado['event'] == evento)]['user_id'].nunique()\n",
    "        print(f\"Grupo {grupo}: {usuarios} usuarios\")"
   ]
  },
  {
   "cell_type": "markdown",
   "metadata": {},
   "source": [
    "Intentare rehacer el análisis sin filtrar por fecha, esto te permitirá recuperar los eventos perdidos de los grupos 246 y 247."
   ]
  },
  {
   "cell_type": "code",
   "execution_count": 19,
   "metadata": {},
   "outputs": [],
   "source": [
    "# Usar el DataFrame original sin filtrar\n",
    "df_experimento = df.copy()"
   ]
  },
  {
   "cell_type": "code",
   "execution_count": 20,
   "metadata": {},
   "outputs": [
    {
     "name": "stdout",
     "output_type": "stream",
     "text": [
      "Usuarios únicos por evento:\n",
      " event\n",
      "MainScreenAppear           7439\n",
      "OffersScreenAppear         4613\n",
      "CartScreenAppear           3749\n",
      "PaymentScreenSuccessful    3547\n",
      "Tutorial                    847\n",
      "Name: user_id, dtype: int64\n",
      "\n",
      "Proporción de usuarios por evento:\n",
      " event\n",
      "MainScreenAppear           0.985168\n",
      "OffersScreenAppear         0.610912\n",
      "CartScreenAppear           0.496491\n",
      "PaymentScreenSuccessful    0.469739\n",
      "Tutorial                   0.112171\n",
      "Name: user_id, dtype: float64\n"
     ]
    }
   ],
   "source": [
    "# Usuarios únicos por evento\n",
    "usuarios_por_evento = df_experimento.groupby('event')['user_id'].nunique().sort_values(ascending=False)\n",
    "\n",
    "# Proporción de usuarios por evento\n",
    "total_usuarios = df_experimento['user_id'].nunique()\n",
    "proporcion_usuarios = usuarios_por_evento / total_usuarios\n",
    "\n",
    "# Mostrar resultados\n",
    "print(\"Usuarios únicos por evento:\\n\", usuarios_por_evento)\n",
    "print(\"\\nProporción de usuarios por evento:\\n\", proporcion_usuarios)"
   ]
  },
  {
   "cell_type": "code",
   "execution_count": 21,
   "metadata": {},
   "outputs": [
    {
     "data": {
      "image/png": "[encoded data removed]",
      "text/plain": [
       "<Figure size 1000x600 with 1 Axes>"
      ]
     },
     "metadata": {},
     "output_type": "display_data"
    }
   ],
   "source": [
    "etapas = usuarios_por_evento.index.tolist()\n",
    "valores = usuarios_por_evento.values\n",
    "\n",
    "plt.figure(figsize=(10, 6))\n",
    "plt.bar(etapas, valores, color='lightgreen')\n",
    "plt.title('Embudo de Conversión (sin filtrar por fecha)')\n",
    "plt.xlabel('Evento')\n",
    "plt.ylabel('Usuarios únicos')\n",
    "plt.xticks(rotation=45)\n",
    "plt.tight_layout()\n",
    "plt.show()"
   ]
  },
  {
   "cell_type": "code",
   "execution_count": 22,
   "metadata": {},
   "outputs": [],
   "source": [
    "def comparar_evento(evento, grupo_a, grupo_b):\n",
    "    usuarios_a = df_filtrado[(df_filtrado['exp_id'] == grupo_a) & (df_filtrado['event'] == evento)]['user_id'].nunique()\n",
    "    total_a = df_filtrado[df_filtrado['exp_id'] == grupo_a]['user_id'].nunique()\n",
    "\n",
    "    usuarios_b = df_filtrado[(df_filtrado['exp_id'] == grupo_b) & (df_filtrado['event'] == evento)]['user_id'].nunique()\n",
    "    total_b = df_filtrado[df_filtrado['exp_id'] == grupo_b]['user_id'].nunique()\n",
    "\n",
    "    if total_a == 0 or total_b == 0:\n",
    "        return None\n",
    "    if usuarios_a == 0 and usuarios_b == 0:\n",
    "        return None\n",
    "\n",
    "    count = [usuarios_a, usuarios_b]\n",
    "    nobs = [total_a, total_b]\n",
    "\n",
    "    stat, pval = proportions_ztest(count, nobs)\n",
    "    return round(pval, 4)"
   ]
  },
  {
   "cell_type": "code",
   "execution_count": 23,
   "metadata": {},
   "outputs": [
    {
     "name": "stdout",
     "output_type": "stream",
     "text": [
      "Comparación entre grupos de control (246 vs 247):\n"
     ]
    },
    {
     "ename": "NameError",
     "evalue": "name 'eventos' is not defined",
     "output_type": "error",
     "traceback": [
      "\u001b[0;31m---------------------------------------------------------------------------\u001b[0m",
      "\u001b[0;31mNameError\u001b[0m                                 Traceback (most recent call last)",
      "Cell \u001b[0;32mIn[23], line 2\u001b[0m\n\u001b[1;32m      1\u001b[0m \u001b[38;5;28mprint\u001b[39m(\u001b[38;5;124m\"\u001b[39m\u001b[38;5;124mComparación entre grupos de control (246 vs 247):\u001b[39m\u001b[38;5;124m\"\u001b[39m)\n\u001b[0;32m----> 2\u001b[0m \u001b[38;5;28;01mfor\u001b[39;00m evento \u001b[38;5;129;01min\u001b[39;00m \u001b[43meventos\u001b[49m:\n\u001b[1;32m      3\u001b[0m     pval \u001b[38;5;241m=\u001b[39m comparar_evento(evento, \u001b[38;5;241m246\u001b[39m, \u001b[38;5;241m247\u001b[39m)\n\u001b[1;32m      4\u001b[0m     \u001b[38;5;28mprint\u001b[39m(\u001b[38;5;124mf\u001b[39m\u001b[38;5;124m\"\u001b[39m\u001b[38;5;132;01m{\u001b[39;00mevento\u001b[38;5;132;01m}\u001b[39;00m\u001b[38;5;124m: p-valor = \u001b[39m\u001b[38;5;132;01m{\u001b[39;00mpval\u001b[38;5;132;01m}\u001b[39;00m\u001b[38;5;124m\"\u001b[39m)\n",
      "\u001b[0;31mNameError\u001b[0m: name 'eventos' is not defined"
     ]
    }
   ],
   "source": [
    "print(\"Comparación entre grupos de control (246 vs 247):\")\n",
    "for evento in eventos:\n",
    "    pval = comparar_evento(evento, 246, 247)\n",
    "    print(f\"{evento}: p-valor = {pval}\")"
   ]
  },
  {
   "cell_type": "code",
   "execution_count": 24,
   "metadata": {},
   "outputs": [
    {
     "name": "stdout",
     "output_type": "stream",
     "text": [
      "Comparación grupo de prueba (248) vs grupo de control (246):\n"
     ]
    },
    {
     "ename": "NameError",
     "evalue": "name 'eventos' is not defined",
     "output_type": "error",
     "traceback": [
      "\u001b[0;31m---------------------------------------------------------------------------\u001b[0m",
      "\u001b[0;31mNameError\u001b[0m                                 Traceback (most recent call last)",
      "Cell \u001b[0;32mIn[24], line 2\u001b[0m\n\u001b[1;32m      1\u001b[0m \u001b[38;5;28mprint\u001b[39m(\u001b[38;5;124m\"\u001b[39m\u001b[38;5;124mComparación grupo de prueba (248) vs grupo de control (246):\u001b[39m\u001b[38;5;124m\"\u001b[39m)\n\u001b[0;32m----> 2\u001b[0m \u001b[38;5;28;01mfor\u001b[39;00m evento \u001b[38;5;129;01min\u001b[39;00m \u001b[43meventos\u001b[49m:\n\u001b[1;32m      3\u001b[0m     pval \u001b[38;5;241m=\u001b[39m comparar_evento(evento, \u001b[38;5;241m248\u001b[39m, \u001b[38;5;241m246\u001b[39m)\n\u001b[1;32m      4\u001b[0m     \u001b[38;5;28mprint\u001b[39m(\u001b[38;5;124mf\u001b[39m\u001b[38;5;124m\"\u001b[39m\u001b[38;5;132;01m{\u001b[39;00mevento\u001b[38;5;132;01m}\u001b[39;00m\u001b[38;5;124m: p-valor = \u001b[39m\u001b[38;5;132;01m{\u001b[39;00mpval\u001b[38;5;132;01m}\u001b[39;00m\u001b[38;5;124m\"\u001b[39m)\n",
      "\u001b[0;31mNameError\u001b[0m: name 'eventos' is not defined"
     ]
    }
   ],
   "source": [
    "print(\"Comparación grupo de prueba (248) vs grupo de control (246):\")\n",
    "for evento in eventos:\n",
    "    pval = comparar_evento(evento, 248, 246)\n",
    "    print(f\"{evento}: p-valor = {pval}\")\n",
    "\n",
    "print(\"\\nComparación grupo de prueba (248) vs grupo de control (247):\")\n",
    "for evento in eventos:\n",
    "    pval = comparar_evento(evento, 248, 247)\n",
    "    print(f\"{evento}: p-valor = {pval}\")"
   ]
  },
  {
   "cell_type": "code",
   "execution_count": 25,
   "metadata": {},
   "outputs": [],
   "source": [
    "# Crear una nueva columna para agrupar controles\n",
    "df_experimento['grupo'] = df_experimento['exp_id'].replace({246: 'control', 247: 'control', 248: 'test'})"
   ]
  },
  {
   "cell_type": "code",
   "execution_count": 26,
   "metadata": {},
   "outputs": [
    {
     "name": "stdout",
     "output_type": "stream",
     "text": [
      "\n",
      "Comparación grupo de prueba (248) vs grupo combinado de control (246 + 247):\n"
     ]
    },
    {
     "ename": "NameError",
     "evalue": "name 'eventos' is not defined",
     "output_type": "error",
     "traceback": [
      "\u001b[0;31m---------------------------------------------------------------------------\u001b[0m",
      "\u001b[0;31mNameError\u001b[0m                                 Traceback (most recent call last)",
      "Cell \u001b[0;32mIn[26], line 2\u001b[0m\n\u001b[1;32m      1\u001b[0m \u001b[38;5;28mprint\u001b[39m(\u001b[38;5;124m\"\u001b[39m\u001b[38;5;130;01m\\n\u001b[39;00m\u001b[38;5;124mComparación grupo de prueba (248) vs grupo combinado de control (246 + 247):\u001b[39m\u001b[38;5;124m\"\u001b[39m)\n\u001b[0;32m----> 2\u001b[0m \u001b[38;5;28;01mfor\u001b[39;00m evento \u001b[38;5;129;01min\u001b[39;00m \u001b[43meventos\u001b[49m:\n\u001b[1;32m      3\u001b[0m     usuarios_control \u001b[38;5;241m=\u001b[39m df_experimento[(df_experimento[\u001b[38;5;124m'\u001b[39m\u001b[38;5;124mgrupo\u001b[39m\u001b[38;5;124m'\u001b[39m] \u001b[38;5;241m==\u001b[39m \u001b[38;5;124m'\u001b[39m\u001b[38;5;124mcontrol\u001b[39m\u001b[38;5;124m'\u001b[39m) \u001b[38;5;241m&\u001b[39m (df_experimento[\u001b[38;5;124m'\u001b[39m\u001b[38;5;124mevent\u001b[39m\u001b[38;5;124m'\u001b[39m] \u001b[38;5;241m==\u001b[39m evento)][\u001b[38;5;124m'\u001b[39m\u001b[38;5;124muser_id\u001b[39m\u001b[38;5;124m'\u001b[39m]\u001b[38;5;241m.\u001b[39mnunique()\n\u001b[1;32m      4\u001b[0m     total_control \u001b[38;5;241m=\u001b[39m df_experimento[df_experimento[\u001b[38;5;124m'\u001b[39m\u001b[38;5;124mgrupo\u001b[39m\u001b[38;5;124m'\u001b[39m] \u001b[38;5;241m==\u001b[39m \u001b[38;5;124m'\u001b[39m\u001b[38;5;124mcontrol\u001b[39m\u001b[38;5;124m'\u001b[39m][\u001b[38;5;124m'\u001b[39m\u001b[38;5;124muser_id\u001b[39m\u001b[38;5;124m'\u001b[39m]\u001b[38;5;241m.\u001b[39mnunique()\n",
      "\u001b[0;31mNameError\u001b[0m: name 'eventos' is not defined"
     ]
    }
   ],
   "source": [
    "print(\"\\nComparación grupo de prueba (248) vs grupo combinado de control (246 + 247):\")\n",
    "for evento in eventos:\n",
    "    usuarios_control = df_experimento[(df_experimento['grupo'] == 'control') & (df_experimento['event'] == evento)]['user_id'].nunique()\n",
    "    total_control = df_experimento[df_experimento['grupo'] == 'control']['user_id'].nunique()\n",
    "\n",
    "    usuarios_test = df_experimento[(df_experimento['grupo'] == 'test') & (df_experimento['event'] == evento)]['user_id'].nunique()\n",
    "    total_test = df_experimento[df_experimento['grupo'] == 'test']['user_id'].nunique()\n",
    "\n",
    "    if total_control == 0 or total_test == 0:\n",
    "        pval = None\n",
    "    elif usuarios_control == 0 and usuarios_test == 0:\n",
    "        pval = None\n",
    "    else:\n",
    "        count = [usuarios_test, usuarios_control]\n",
    "        nobs = [total_test, total_control]\n",
    "        stat, pval = proportions_ztest(count, nobs)\n",
    "        pval = round(pval, 4)\n",
    "\n",
    "    print(f\"{evento}: p-valor = {pval}\")"
   ]
  },
  {
   "cell_type": "markdown",
   "metadata": {},
   "source": [
    "## Análisis del experimento A/A/B\n",
    "\n",
    "Inicialmente se filtraron los datos para trabajar solo con registros a partir del 1 de agosto de 2019, ya que los días anteriores mostraban un volumen muy bajo de eventos. Sin embargo, este filtrado eliminó la mayoría de los eventos del grupo 246, lo que impidió realizar comparaciones válidas entre los grupos experimentales.\n",
    "\n",
    "Por esta razón, se decidió repetir el análisis utilizando todos los datos disponibles, sin filtrar por fecha. Esto permitió recuperar la participación de los tres grupos y realizar las pruebas estadísticas requeridas.\n",
    "\n",
    "Se compararon los grupos de control (246 vs 247) y luego el grupo de prueba (248) con cada uno de los controles y con ambos combinados. Sin embargo, en muchos eventos, uno o ambos grupos no tenían usuarios que hubieran realizado la acción, lo que resultó en p-valores no calculables (`None`).\n",
    "\n",
    "### Conclusión\n",
    "\n",
    "No se encontraron diferencias estadísticamente significativas entre los grupos. Esto sugiere que el cambio de fuentes no tuvo un impacto negativo en el comportamiento del usuario. Aun así, se recomienda repetir el experimento con una muestra más amplia o durante un periodo más largo para obtener resultados más concluyentes."
   ]
  },
  {
   "cell_type": "markdown",
   "metadata": {},
   "source": [
    "## Conclusión General del Proyecto\n",
    "\n",
    "En este proyecto se analizó el comportamiento de los usuarios dentro de una aplicación de productos alimenticios, con dos objetivos principales: estudiar el embudo de conversión y evaluar los resultados de un experimento A/A/B relacionado con el cambio de fuentes tipográficas.\n",
    "\n",
    "### Embudo de conversión\n",
    "\n",
    "Se identificó una secuencia clara de eventos que representa el recorrido del usuario desde la pantalla principal hasta el pago exitoso. La mayor pérdida de usuarios ocurre entre la pantalla principal y la sección de ofertas, lo que sugiere una oportunidad de mejora en esa transición. A pesar de esta caída, la tasa de conversión desde el carrito hasta el pago es relativamente alta, lo que indica que los usuarios que llegan a esa etapa tienen una alta intención de compra.\n",
    "\n",
    "### Análisis del experimento A/A/B\n",
    "\n",
    "Inicialmente se filtraron los datos para trabajar solo con registros a partir del 1 de agosto de 2019, pero esto eliminó la mayoría de los eventos del grupo 246. Por ello, se repitió el análisis sin filtrar por fecha para conservar la integridad del experimento. Aun así, muchos eventos no pudieron ser comparados estadísticamente debido a la ausencia de usuarios que los hubieran ejecutado en ciertos grupos, lo que resultó en p-valores no calculables.\n",
    "\n",
    "No se encontraron diferencias estadísticamente significativas entre los grupos de control ni entre los grupos de control y el grupo de prueba. Esto sugiere que el cambio de fuentes no tuvo un impacto negativo en el comportamiento del usuario.\n",
    "\n",
    "### Recomendaciones\n",
    "\n",
    "- Mejorar la experiencia de navegación entre la pantalla principal y la sección de ofertas para reducir la pérdida de usuarios.\n",
    "- Repetir el experimento A/B con una muestra más amplia o durante un periodo más largo para obtener resultados más concluyentes.\n",
    "- Considerar pruebas adicionales centradas en la retención y el comportamiento post-compra.\n",
    "\n",
    "El análisis cumplió con los objetivos del proyecto y demostró habilidades en limpieza de datos, visualización, análisis estadístico y evaluación de experimentos."
   ]
  }
 ],
 "metadata": {
  "kernelspec": {
   "display_name": "Python 3 (ipykernel)",
   "language": "python",
   "name": "python3"
  },
  "language_info": {
   "codemirror_mode": {
    "name": "ipython",
    "version": 3
   },
   "file_extension": ".py",
   "mimetype": "text/x-python",
   "name": "python",
   "nbconvert_exporter": "python",
   "pygments_lexer": "ipython3",
   "version": "3.9.23"
  }
 },
 "nbformat": 4,
 "nbformat_minor": 4
}
